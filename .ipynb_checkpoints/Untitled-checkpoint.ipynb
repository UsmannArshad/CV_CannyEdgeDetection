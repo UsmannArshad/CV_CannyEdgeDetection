{
 "cells": [
  {
   "cell_type": "code",
   "execution_count": 29,
   "id": "5c521ebd",
   "metadata": {},
   "outputs": [],
   "source": [
    "import cv2 as cv\n",
    "import matplotlib.pylab as plt\n",
    "import numpy as np\n",
    "import math"
   ]
  },
  {
   "cell_type": "code",
   "execution_count": 36,
   "id": "a1dd0a74",
   "metadata": {},
   "outputs": [],
   "source": [
    "def Perform_Convolution(image,mask):\n",
    "    flipped_mask=Flip_Mask(mask)\n",
    "    padded_img=Apply_Padding(image,len(flipped_mask))\n",
    "    convoluted_img=Convolution(padded_img,image,flipped_mask)\n",
    "    return convoluted_img\n",
    "\n",
    "def Flip_Mask(mask):\n",
    "    size=len(mask)\n",
    "    flipped_mask=np.zeros((size,size),dtype=float)\n",
    "    row=size\n",
    "    for i in range(size):\n",
    "        row=row-1\n",
    "        col=size\n",
    "        for j in range(size):\n",
    "            col=col-1\n",
    "            flipped_mask[row][col]=mask[i][j]\n",
    "    return flipped_mask\n",
    "def Apply_Padding(img,len_mask):\n",
    "    #img_rows,img_cols=img.shape\n",
    "    img_rows,img_cols=img.shape\n",
    "    padded_rows=len_mask-1\n",
    "    padded_cols=len_mask-1\n",
    "    padded_img=np.zeros((img_rows+padded_rows,img_cols+padded_cols),np.uint64)\n",
    "    for i in range(img_rows):\n",
    "        for j in range(img_cols):\n",
    "            padded_img[i+int(padded_rows/2)][j+int(padded_cols/2)]=img[i][j]\n",
    "    return padded_img\n",
    "def Convolution(padded_img,img,mask): #Convolution function which will return the result of convolution\n",
    "    img_rows,img_cols=img.shape\n",
    "    padded_rows=len(mask)-1\n",
    "    padded_cols=len(mask)-1\n",
    "    Convoluted_img=np.zeros((img_rows+padded_rows,img_cols+padded_cols))   #define convoluted_ig for storing result having shape equal to padded_img\n",
    "    for i in range(int(padded_rows/2),img_rows+1):\n",
    "        for j in range(int(padded_cols/2),img_cols+1):    #i,j tells us the index where we have to apply convolution ie not on padded_rows and cols\n",
    "            value=0                                       #for storing value\n",
    "            mask_row=-1                                   #tells us the row of mask that we have to multiply\n",
    "            for k in range(i-int(padded_rows/2),i+int(padded_rows/2)+1):   #k tells us about the neighbour rows that we have to multiply\n",
    "                mask_row+=1\n",
    "                mask_col=-1\n",
    "                for l in range(j-int(padded_cols/2),j+int(padded_cols/2)+1): # l tells us about the neighbour cols that we have to multiply\n",
    "                    mask_col+=1\n",
    "                    value+=padded_img[k][l]*mask[mask_row][mask_col]    #multiply each neighbour including index itself with entries of mask and then adding in value\n",
    "            Convoluted_img[i][j]=value        #Simply store result after convolution dont for that specific index\n",
    "    Convoluted_img=np.clip(Convoluted_img,0,255)\n",
    "    return Convoluted_img\n",
    "def Gradient(fx,fy):\n",
    "    gradient=np.zeros((fx.shape[0],fx.shape[1]))\n",
    "    for i in range(fx.shape[0]):\n",
    "        for j in range(fx.shape[1]):\n",
    "            gradient[i][j]=math.sqrt(fx[i][j]**2+fy[i][j]**2)\n",
    "    gradient=np.clip(gradient,0,255)\n",
    "    return gradient\n",
    "def Direction(fx,fy):\n",
    "    direction=np.zeros((fx.shape[0],fx.shape[1]))\n",
    "    for i in range(fx.shape[0]):\n",
    "        for j in range(fx.shape[1]):\n",
    "            direction[i][j]=np.arctan2(fy[i][j],fx[i][j])\n",
    "            direction[i][j]=np.rad2deg(direction[i][j])\n",
    "            direction[i][j]+=180\n",
    "    return direction\n",
    "def NonMaximaSuppresion(original,gradient,direction):\n",
    "    padded_rows=gradient.shape[0]-original.shape[0]\n",
    "    padded_cols=gradient.shape[1]-original.shape[1]\n",
    "    for i in range(int(padded_rows/2),img_rows+1):\n",
    "        for j in range(int(padded_cols/2),img_cols+1):\n",
    "    \n",
    "            "
   ]
  },
  {
   "cell_type": "code",
   "execution_count": 37,
   "id": "58ab956a",
   "metadata": {},
   "outputs": [],
   "source": [
    "#Step no 1:Read image as gray\n",
    "img=cv.imread(\"book.jpg\",0)"
   ]
  },
  {
   "cell_type": "code",
   "execution_count": 38,
   "id": "deac7a1f",
   "metadata": {},
   "outputs": [],
   "source": [
    "#Apply Guassian Filter\n",
    "guass_filter=np.array([\n",
    "    [1/16,2/16,1/16],\n",
    "    [2/16,4/16,2/16],\n",
    "    [1/16,2/16,1/16]\n",
    "])\n",
    "blurred_img=Perform_Convolution(img,guass_filter)"
   ]
  },
  {
   "cell_type": "code",
   "execution_count": 39,
   "id": "a5519405",
   "metadata": {},
   "outputs": [],
   "source": [
    "#fx and fy using sobel filter\n",
    "Horizontal_Sobel_Filter=np.array([\n",
    "    [-1,0,1],\n",
    "    [-2,0,2],\n",
    "    [-1,0,1]\n",
    "])\n",
    "Vertical_Sobel_Filter=np.array([\n",
    "     [-1,-2,-1],\n",
    "     [0,0,0],\n",
    "     [1,2,1]\n",
    "])\n",
    "fx=Perform_Convolution(blurred_img,Horizontal_Sobel_Filter)\n",
    "fy=Perform_Convolution(blurred_img,Vertical_Sobel_Filter)\n"
   ]
  },
  {
   "cell_type": "code",
   "execution_count": 40,
   "id": "b76d13e6",
   "metadata": {},
   "outputs": [],
   "source": [
    "#find gradient\n",
    "gradient=Gradient(fx,fy)"
   ]
  },
  {
   "cell_type": "code",
   "execution_count": 41,
   "id": "fd981b13",
   "metadata": {},
   "outputs": [],
   "source": [
    "#find gradient direction\n",
    "direction=Direction(fx,fy)"
   ]
  },
  {
   "cell_type": "code",
   "execution_count": null,
   "id": "1241aff1",
   "metadata": {},
   "outputs": [],
   "source": [
    "#Non Maxima Suppresion:\n"
   ]
  }
 ],
 "metadata": {
  "kernelspec": {
   "display_name": "Python 3 (ipykernel)",
   "language": "python",
   "name": "python3"
  },
  "language_info": {
   "codemirror_mode": {
    "name": "ipython",
    "version": 3
   },
   "file_extension": ".py",
   "mimetype": "text/x-python",
   "name": "python",
   "nbconvert_exporter": "python",
   "pygments_lexer": "ipython3",
   "version": "3.9.7"
  }
 },
 "nbformat": 4,
 "nbformat_minor": 5
}
